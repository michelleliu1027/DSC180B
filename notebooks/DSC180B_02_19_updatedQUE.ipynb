{
 "cells": [
  {
   "cell_type": "code",
   "execution_count": 1,
   "metadata": {},
   "outputs": [],
   "source": [
    "import pandas as pd\n",
    "import gzip\n",
    "import numpy as np\n",
    "import matplotlib.pyplot as plt\n",
    "import warnings\n",
    "from datetime import datetime\n",
    "\n",
    "from sklearn.linear_model import LinearRegression\n",
    "from sklearn import svm\n",
    "from sklearn.tree import DecisionTreeRegressor\n",
    "from sklearn.metrics import mean_absolute_error\n",
    "from sklearn.model_selection import train_test_split\n",
    "\n",
    "\n",
    "warnings.filterwarnings('ignore')"
   ]
  },
  {
   "cell_type": "code",
   "execution_count": 2,
   "metadata": {},
   "outputs": [],
   "source": [
    "# Parameters\n",
    "DATES = pd.date_range('2020-09', '2020-10', freq='D', closed='left')\n",
    "\n",
    "# DATES_PROCESS = pd.date_range('2020-10', '2021-', freq='D', closed='left')\n",
    "# DATES_PROCESS = DATES_PROCESS[:int(0.25*len(DATES))]\n",
    "\n",
    "### only focus on the last 7 days of August\n",
    "\n",
    "DEVICE_INFP1 = 'devuse_4known_device.csv000.gz'\n",
    "DEVICE_OUTFP1 = 'sample2_device_1.csv'\n",
    "\n",
    "DEVICE_INFP2 = 'devuse_4known_device.csv001.gz'\n",
    "DEVICE_OUTFP2 = 'sample2_device_2.csv'\n",
    "\n",
    "BATTERY_EVENT_INFP = 'batt_acdc_events.csv000.gz'\n",
    "BATTERY_EVENT_OUTFP = 'sample2_events.csv'\n",
    "\n",
    "BATTERY_INFO_INFP = 'batt_info.csv000.gz'\n",
    "BATTERY_INFO_OUTFP = 'sample2_info.csv'\n",
    "\n",
    "PROCESS_INFP1 = 'plist_process_resource_util_13wks.csv000.gz'\n",
    "PROCESS_OUTFP1 = 'sample2_process_1.csv'\n",
    "\n",
    "PROCESS_INFP2 = 'plist_process_resource_util_13wks.csv001.gz'\n",
    "PROCESS_OUTFP2 = 'sample2_process_2.csv'\n",
    "\n",
    "\n",
    "\n",
    "PROCESS_INFP3 = 'plist_process_resource_util_hist.csv001.gz'\n",
    "PROCESS_OUTFP3 = 'sample2_process_3.csv'\n",
    "\n",
    "PROCESS_INFP4 = 'plist_process_resource_util_hist.csv002.gz'\n",
    "PROCESS_OUTFP4 = 'sample2_process_4.csv'\n",
    "\n",
    "PROCESS_INFP5 = 'plist_process_resource_util_hist.csv003.gz'\n",
    "PROCESS_OUTFP5 = 'sample2_process_5.csv'\n",
    "\n",
    "\n",
    "\n",
    "HW_INFP1 = 'hw_metric_histo.csv000.gz'\n",
    "HW_OUTFP1 = 'sample2_hw_1.csv'\n",
    "\n",
    "HW_INFP2 = 'hw_metric_histo.csv001.gz'\n",
    "HW_OUTFP2 = 'sample2_hw_2.csv'"
   ]
  },
  {
   "cell_type": "code",
   "execution_count": 3,
   "metadata": {},
   "outputs": [
    {
     "data": {
      "text/plain": [
       "DatetimeIndex(['2020-09-01', '2020-09-02', '2020-09-03', '2020-09-04',\n",
       "               '2020-09-05', '2020-09-06', '2020-09-07', '2020-09-08',\n",
       "               '2020-09-09', '2020-09-10', '2020-09-11', '2020-09-12',\n",
       "               '2020-09-13', '2020-09-14', '2020-09-15', '2020-09-16',\n",
       "               '2020-09-17', '2020-09-18', '2020-09-19', '2020-09-20',\n",
       "               '2020-09-21', '2020-09-22', '2020-09-23', '2020-09-24',\n",
       "               '2020-09-25', '2020-09-26', '2020-09-27', '2020-09-28',\n",
       "               '2020-09-29', '2020-09-30'],\n",
       "              dtype='datetime64[ns]', freq='D')"
      ]
     },
     "execution_count": 3,
     "metadata": {},
     "output_type": "execute_result"
    }
   ],
   "source": [
    "DATES"
   ]
  },
  {
   "cell_type": "code",
   "execution_count": 42,
   "metadata": {},
   "outputs": [],
   "source": [
    "def find_seperator(infp):\n",
    "    with gzip.open(infp,'rt') as f:\n",
    "        count = 0\n",
    "        for line in f:\n",
    "            if count == 0:\n",
    "                toreplace = line[7] \n",
    "                count+=1\n",
    "            else:\n",
    "                break\n",
    "    return toreplace\n",
    "\n",
    "def device_filtered(dates, infp, outfp):\n",
    "    seperator = find_seperator(infp)\n",
    "    \n",
    "    pd.read_csv(infp, compression='gzip'\\\n",
    "            ,sep=seperator, nrows=0).to_csv(outfp, index=False) # read column names\n",
    "\n",
    "\n",
    "    for counter, chunk in enumerate(pd.read_csv(infp,\n",
    "                            compression='gzip', sep=seperator,dtype=str, chunksize=1000000,error_bad_lines=False)):\n",
    "        print(counter)\n",
    "        try:\n",
    "            device_use = chunk.loc[chunk.device == 'GUID_DEVICE_BATTERY']\n",
    "            device_use.dt = pd.to_datetime(device_use.dt, errors='coerce')\n",
    "            needed_time = set(dates).intersection(set(device_use.dt))\n",
    "            filtered = device_use.set_index('dt').loc[needed_time].reset_index()\n",
    "        except:\n",
    "            display(chunk.dt.min(),chunk.dt.max())\n",
    "            continue\n",
    "        filtered.to_csv(outfp, index=False, header=False, mode='a')\n",
    "    return \n",
    "\n",
    "\n",
    "def battery_filtered(needed_guid, dates, infp, outfp):\n",
    "    seperator = find_seperator(infp)\n",
    "    pd.read_csv(infp, compression='gzip'\\\n",
    "                ,sep=seperator, nrows=0).to_csv(outfp, index=False) # read column names\n",
    "\n",
    "    \n",
    "    if 'process'in infp:\n",
    "        dt = 'start_dt'\n",
    "        flagprocess = True\n",
    "    else:\n",
    "        dt = 'dt'\n",
    "        flagprocess = False\n",
    "        \n",
    "        \n",
    "    if 'events' in infp:\n",
    "        flagevent = True\n",
    "    else:\n",
    "        flagevent = False\n",
    "    \n",
    "    if 'hw' in infp:\n",
    "        flaghw = True\n",
    "    else:\n",
    "        flaghw = False\n",
    "        \n",
    "    for counter, chunk in enumerate(pd.read_csv(infp,\n",
    "                            compression='gzip', sep=seperator,dtype=str, \\\n",
    "                                                chunksize=1000000,error_bad_lines = False)):\n",
    "        print(counter)\n",
    "#         display(chunk.head().T)\n",
    "        try:\n",
    "            needed = set(needed_guid).intersection(set(chunk.guid))\n",
    "            chunk = chunk.set_index('guid').loc[needed].reset_index()\n",
    "            chunk[dt] = pd.to_datetime(chunk[dt],errors='coerce')\n",
    "            needed_time = set(dates).intersection(set(chunk[dt]))\n",
    "            filtered = chunk.set_index(dt).loc[needed_time].reset_index()\n",
    "        except:\n",
    "            display(chunk[dt].min(),chunk[dt].max())\n",
    "            continue\n",
    "        \n",
    "        if flagevent:\n",
    "            filtered = filtered.loc[filtered.event_type == 'DC']\n",
    "            \n",
    "            \n",
    "        if flaghw:\n",
    "            cpu_percent = filtered.name == 'HW::CORE:C0:PERCENT:'\n",
    "            temperature = filtered.name == 'HW::CORE:TEMPERATURE:CENTIGRADE:'\n",
    "            filtered = filtered.loc[cpu_percent | temperature ]\n",
    "#             display(filtered)\n",
    "        \n",
    "            \n",
    "\n",
    "    \n",
    "        filtered.to_csv(outfp, index=True, header=False, mode='a')\n",
    "    return \n",
    "        "
   ]
  },
  {
   "cell_type": "code",
   "execution_count": 6,
   "metadata": {},
   "outputs": [],
   "source": [
    "# df31 = pd.read_csv('mini_device_use1.csv')\n",
    "# df41 = pd.read_csv('mini_device_use2.csv')\n",
    "# mini_device_use = df41.append(df31)\n",
    "# newcol = ['dt', 'load_ts', 'batch_id', 'audit_zip', 'audit_internal_path', 'guid',\n",
    "#        'interval_start_utc', 'interval_end_utc', 'interval_local_start',\n",
    "#        'interval_local_end', 'ts','device', 'hw_name', 'name',\n",
    "#        'duration', 'status']\n",
    "# mini_device_use.columns = newcol"
   ]
  },
  {
   "cell_type": "code",
   "execution_count": 7,
   "metadata": {},
   "outputs": [],
   "source": [
    "# mini_needed_guids = set(mini_device_use.guid)\n",
    "# len(mini_needed_guids)"
   ]
  },
  {
   "cell_type": "code",
   "execution_count": 8,
   "metadata": {},
   "outputs": [],
   "source": [
    "# #battery_filtered(mini_needed_guids, DATES, PROCESS_INFP1, 'mini_process1.csv')\n",
    "# battery_filtered(mini_needed_guids, DATES, PROCESS_INFP2, 'mini_process2.csv')\n",
    "\n",
    "# #battery_filtered(needed_guids, DATES, HW_INFP1, HW_OUTFP1)\n",
    "# #battery_filtered(needed_guids, DATES, HW_INFP2, HW_OUTFP2)"
   ]
  },
  {
   "cell_type": "code",
   "execution_count": 9,
   "metadata": {},
   "outputs": [],
   "source": [
    "# battery_filtered(mini_needed_guids, DATES, HW_INFP1, 'mini_hw1.csv')"
   ]
  },
  {
   "cell_type": "code",
   "execution_count": 10,
   "metadata": {},
   "outputs": [],
   "source": [
    "# battery_filtered(mini_needed_guids, DATES, HW_INFP2, 'mini_hw2.csv')"
   ]
  },
  {
   "cell_type": "code",
   "execution_count": 11,
   "metadata": {},
   "outputs": [],
   "source": [
    "# battery_filtered(mini_needed_guids, DATES, BATTERY_EVENT_INFP, 'mini_battery_event2.csv')"
   ]
  },
  {
   "cell_type": "code",
   "execution_count": 12,
   "metadata": {},
   "outputs": [],
   "source": [
    "# battery_filtered(mini_needed_guids, DATES, BATTERY_INFO_INFP, 'mini_battery_info2.csv')"
   ]
  },
  {
   "cell_type": "code",
   "execution_count": 13,
   "metadata": {},
   "outputs": [],
   "source": [
    "# mini_device_use[0:20000].to_csv('minimini_device_use1.csv')\n",
    "# mini_device_use[20000:40000].to_csv('minimini_device_use2.csv')\n",
    "# pd.read_csv('mini_process1.csv', nrows = 20000).to_csv('minimini_process1.csv')\n",
    "# pd.read_csv('mini_process2.csv', nrows = 20000).to_csv('minimini_process2.csv')\n",
    "# pd.read_csv('mini_hw1.csv', nrows = 20000).to_csv('minimini_hw1.csv')\n",
    "# pd.read_csv('mini_hw2.csv', nrows = 20000).to_csv('minimini_hw2.csv')\n",
    "# pd.read_csv('mini_battery_event2.csv', nrows = 20000).to_csv('minimini_battery_event2.csv')\n",
    "# pd.read_csv('mini_battery_info2.csv', nrows = 20000).to_csv('minimini_battery_info2.csv')"
   ]
  },
  {
   "cell_type": "markdown",
   "metadata": {},
   "source": [
    "# Problem Focus:\n",
    "Build a model for predicting ` battery remaining time ` based on features we mined"
   ]
  },
  {
   "cell_type": "markdown",
   "metadata": {},
   "source": [
    "# Read Data"
   ]
  },
  {
   "cell_type": "markdown",
   "metadata": {},
   "source": [
    "### <font color='red'> NOTICE: FOR THIS PART, If you don't have sample data, then you can run it; else, skip READ Data Part</font>"
   ]
  },
  {
   "cell_type": "markdown",
   "metadata": {},
   "source": [
    "Selected Datasets are:\n",
    "* ` batt_acdc_events.csv000.gz `\n",
    "* ` batt_info.csv000.gz `\n",
    "* `devuse_4known_device.csv000.gz` and `devuse_4known_device.csv001`\n",
    "* ` plist_process_resource_util_13wks.csv000.gz ` and ` plist_process_resource_util_13wks.csv001.gz `\n",
    "* ` hw_metric_histo.csv000.gz ` and `hw_metric_histo.csv001.gz`"
   ]
  },
  {
   "cell_type": "markdown",
   "metadata": {},
   "source": [
    "### Call device_filtered to get guid with our needed features:"
   ]
  },
  {
   "cell_type": "markdown",
   "metadata": {},
   "source": [
    "1. device_use, GUID_DEVICE_BATTERY & date in DATES --> needed_guid1 (#~40369)"
   ]
  },
  {
   "cell_type": "code",
   "execution_count": 6,
   "metadata": {
    "scrolled": true
   },
   "outputs": [],
   "source": [
    "#Read first device file\n",
    "# device_filtered(DATES, DEVICE_INFP1, DEVICE_OUTFP1)"
   ]
  },
  {
   "cell_type": "code",
   "execution_count": 7,
   "metadata": {},
   "outputs": [],
   "source": [
    "#read second device file\n",
    "# device_filtered(DATES, DEVICE_INFP2, DEVICE_OUTFP2)"
   ]
  },
  {
   "cell_type": "code",
   "execution_count": 4,
   "metadata": {},
   "outputs": [],
   "source": [
    "df3 = pd.read_csv(DEVICE_OUTFP1)\n",
    "df4 = pd.read_csv(DEVICE_OUTFP2)\n",
    "device_use = df4.append(df3)\n",
    "newcol = ['dt', 'load_ts', 'batch_id', 'audit_zip', 'audit_internal_path', 'guid',\n",
    "       'interval_start_utc', 'interval_end_utc', 'interval_local_start',\n",
    "       'interval_local_end', 'ts','device', 'hw_name', 'name',\n",
    "       'duration', 'status']\n",
    "device_use.columns = newcol\n",
    "needed_guids = set(device_use.guid)"
   ]
  },
  {
   "cell_type": "code",
   "execution_count": 5,
   "metadata": {},
   "outputs": [
    {
     "data": {
      "text/plain": [
       "40369"
      ]
     },
     "execution_count": 5,
     "metadata": {},
     "output_type": "execute_result"
    }
   ],
   "source": [
    "len(set(device_use.guid))"
   ]
  },
  {
   "cell_type": "markdown",
   "metadata": {},
   "source": [
    "2. to batterey_events --> get only dc battery --> update needed guid1 (~32931)"
   ]
  },
  {
   "cell_type": "code",
   "execution_count": 10,
   "metadata": {
    "collapsed": true
   },
   "outputs": [
    {
     "name": "stdout",
     "output_type": "stream",
     "text": [
      "0\n",
      "1\n",
      "2\n",
      "3\n",
      "4\n",
      "5\n",
      "6\n",
      "7\n",
      "8\n",
      "9\n",
      "10\n",
      "11\n",
      "12\n",
      "13\n",
      "14\n",
      "15\n",
      "16\n",
      "17\n",
      "18\n",
      "19\n",
      "20\n",
      "21\n",
      "22\n",
      "23\n",
      "24\n",
      "25\n",
      "26\n",
      "27\n",
      "28\n",
      "29\n",
      "30\n",
      "31\n",
      "32\n",
      "33\n",
      "34\n",
      "35\n",
      "36\n",
      "37\n",
      "38\n",
      "39\n",
      "40\n",
      "41\n",
      "42\n",
      "43\n",
      "44\n",
      "45\n",
      "46\n",
      "47\n",
      "48\n",
      "49\n",
      "50\n",
      "51\n",
      "52\n",
      "53\n",
      "54\n",
      "55\n",
      "56\n",
      "57\n",
      "58\n",
      "59\n",
      "60\n",
      "61\n",
      "62\n",
      "63\n",
      "64\n",
      "65\n",
      "66\n",
      "67\n",
      "68\n",
      "69\n",
      "70\n",
      "71\n",
      "72\n",
      "73\n",
      "74\n",
      "75\n",
      "76\n",
      "77\n",
      "78\n",
      "79\n",
      "80\n",
      "81\n",
      "82\n",
      "83\n",
      "84\n",
      "85\n",
      "86\n",
      "87\n",
      "88\n",
      "89\n",
      "90\n",
      "91\n",
      "92\n",
      "93\n",
      "94\n",
      "95\n",
      "96\n",
      "97\n",
      "98\n",
      "99\n",
      "100\n",
      "101\n",
      "102\n",
      "103\n",
      "104\n",
      "105\n",
      "106\n",
      "107\n",
      "108\n",
      "109\n",
      "110\n"
     ]
    }
   ],
   "source": [
    "## read battery_events file\n",
    "# battery_filtered(needed_guids, DATES, BATTERY_EVENT_INFP, BATTERY_EVENT_OUTFP)"
   ]
  },
  {
   "cell_type": "code",
   "execution_count": 6,
   "metadata": {
    "scrolled": true
   },
   "outputs": [],
   "source": [
    "\n",
    "battery_event = pd.read_csv(BATTERY_EVENT_OUTFP)\n",
    "newcol = ['dt', 'guid','load_ts','batch_id','audit_zip','audit_internal_path',\n",
    "       'interval_start_utc', 'interval_end_utc', 'interval_local_start',\n",
    "       'interval_local_end', 'ts','system_power_state', 'event_type',\n",
    "       'duration', 'battery_percent_remaining', 'battery_minutes_remaining']\n",
    "battery_event.columns = newcol\n",
    "needed_guids = set(battery_event.guid) ## update needed guids, and then load other datasets\n",
    "\n",
    "# battery_filtered(needed_guids, DATES, BATTERY_INFO_INFP, BATTERY_INFO_OUTFP)\n",
    "\n",
    "# battery_filtered(needed_guids, DATES, PROCESS_INFP1, PROCESS_OUTFP1)\n",
    "#battery_filtered(needed_guids, DATES, PROCESS_INFP2, PROCESS_OUTFP2)\n",
    "\n",
    "#battery_filtered(needed_guids, DATES, HW_INFP1, HW_OUTFP1)\n",
    "# battery_filtered(needed_guids, DATES, HW_INFP2, HW_OUTFP2)"
   ]
  },
  {
   "cell_type": "code",
   "execution_count": 7,
   "metadata": {},
   "outputs": [
    {
     "data": {
      "text/plain": [
       "32931"
      ]
     },
     "execution_count": 7,
     "metadata": {},
     "output_type": "execute_result"
    }
   ],
   "source": [
    "len(set(battery_event.guid))"
   ]
  },
  {
   "cell_type": "markdown",
   "metadata": {},
   "source": [
    "3. to battery_info --> # of guids (32906）"
   ]
  },
  {
   "cell_type": "code",
   "execution_count": 13,
   "metadata": {},
   "outputs": [],
   "source": [
    "## read battery_info file (needed_guids (#~))\n",
    "# battery_filtered(needed_guids, DATES, BATTERY_INFO_INFP, BATTERY_INFO_OUTFP)"
   ]
  },
  {
   "cell_type": "code",
   "execution_count": 8,
   "metadata": {},
   "outputs": [],
   "source": [
    "battery_info = pd.read_csv(BATTERY_INFO_OUTFP)\n",
    "newcol = ['dt', 'guid','load_ts','batch_id','audit_zip','audit_internal_path',\n",
    "       'interval_start_utc', 'interval_end_utc', 'interval_local_start',\n",
    "       'interval_local_end', 'ts','battery_enum', 'chemistry',\n",
    "       'designed_capacity', 'full_charge_capacity', 'battery_count']\n",
    "battery_info.columns = newcol"
   ]
  },
  {
   "cell_type": "code",
   "execution_count": 9,
   "metadata": {},
   "outputs": [
    {
     "data": {
      "text/plain": [
       "32906"
      ]
     },
     "execution_count": 9,
     "metadata": {},
     "output_type": "execute_result"
    }
   ],
   "source": [
    "len(set(battery_info.guid))"
   ]
  },
  {
   "cell_type": "markdown",
   "metadata": {},
   "source": [
    "3. to process --> #of guids(2747)\n",
    "\n",
    "NOTES: For this dataset, since we don't have data from september, so we extract data from oct to Dec."
   ]
  },
  {
   "cell_type": "code",
   "execution_count": 10,
   "metadata": {},
   "outputs": [],
   "source": [
    "DATES_PROCESS = pd.date_range('2020-10', '2020-12', freq='D', closed='left')"
   ]
  },
  {
   "cell_type": "code",
   "execution_count": 11,
   "metadata": {
    "scrolled": true
   },
   "outputs": [],
   "source": [
    "# battery_filtered(needed_guids, DATES_PROCESS, PROCESS_INFP1, PROCESS_OUTFP1)"
   ]
  },
  {
   "cell_type": "code",
   "execution_count": 12,
   "metadata": {},
   "outputs": [
    {
     "data": {
      "text/html": [
       "<div>\n",
       "<style scoped>\n",
       "    .dataframe tbody tr th:only-of-type {\n",
       "        vertical-align: middle;\n",
       "    }\n",
       "\n",
       "    .dataframe tbody tr th {\n",
       "        vertical-align: top;\n",
       "    }\n",
       "\n",
       "    .dataframe thead th {\n",
       "        text-align: right;\n",
       "    }\n",
       "</style>\n",
       "<table border=\"1\" class=\"dataframe\">\n",
       "  <thead>\n",
       "    <tr style=\"text-align: right;\">\n",
       "      <th></th>\n",
       "      <th>dt</th>\n",
       "      <th>guid</th>\n",
       "      <th>load_ts</th>\n",
       "      <th>batch_id</th>\n",
       "      <th>audit_zip</th>\n",
       "      <th>audit_internal_path</th>\n",
       "      <th>interval_start_utc</th>\n",
       "      <th>interval_end_utc</th>\n",
       "      <th>interval_local_start</th>\n",
       "      <th>interval_local_end</th>\n",
       "      <th>...</th>\n",
       "      <th>page_faults</th>\n",
       "      <th>hard_page_faults</th>\n",
       "      <th>disk_read_iobytes</th>\n",
       "      <th>disk_write_iobytes</th>\n",
       "      <th>tcpip_sendbytes</th>\n",
       "      <th>tcpip_receivebytes</th>\n",
       "      <th>udpip_sendbytes</th>\n",
       "      <th>udpip_receivebytes</th>\n",
       "      <th>avg_memory</th>\n",
       "      <th>peak_memory</th>\n",
       "    </tr>\n",
       "  </thead>\n",
       "  <tbody>\n",
       "    <tr>\n",
       "      <th>0</th>\n",
       "      <td>2020-10-09</td>\n",
       "      <td>0337df40320046868541387de9a4604a</td>\n",
       "      <td>2020-10-11 05:12:55</td>\n",
       "      <td>20201010-200234</td>\n",
       "      <td>2020101101-i-04a9a906e1cd5620c-iKxevjMEAxdo87a...</td>\n",
       "      <td>V8PLIST_20201010211124.V8</td>\n",
       "      <td>2020-10-10 00:13:13</td>\n",
       "      <td>2020-10-11 01:11:40</td>\n",
       "      <td>2020-10-09 20:13:13</td>\n",
       "      <td>2020-10-10 21:11:40</td>\n",
       "      <td>...</td>\n",
       "      <td>3111.0</td>\n",
       "      <td>45.0</td>\n",
       "      <td>0.0</td>\n",
       "      <td>0.0</td>\n",
       "      <td>0.0</td>\n",
       "      <td>0.0</td>\n",
       "      <td>0.0</td>\n",
       "      <td>0.0</td>\n",
       "      <td>3521.00</td>\n",
       "      <td>3940.0</td>\n",
       "    </tr>\n",
       "    <tr>\n",
       "      <th>1</th>\n",
       "      <td>2020-10-09</td>\n",
       "      <td>0337df40320046868541387de9a4604a</td>\n",
       "      <td>2020-10-11 05:12:55</td>\n",
       "      <td>20201010-200234</td>\n",
       "      <td>2020101101-i-04a9a906e1cd5620c-iKxevjMEAxdo87a...</td>\n",
       "      <td>V8PLIST_20201010211124.V8</td>\n",
       "      <td>2020-10-10 00:13:13</td>\n",
       "      <td>2020-10-11 01:11:40</td>\n",
       "      <td>2020-10-09 20:13:13</td>\n",
       "      <td>2020-10-10 21:11:40</td>\n",
       "      <td>...</td>\n",
       "      <td>3839.0</td>\n",
       "      <td>0.0</td>\n",
       "      <td>0.0</td>\n",
       "      <td>0.0</td>\n",
       "      <td>0.0</td>\n",
       "      <td>0.0</td>\n",
       "      <td>0.0</td>\n",
       "      <td>0.0</td>\n",
       "      <td>7390.00</td>\n",
       "      <td>7692.0</td>\n",
       "    </tr>\n",
       "    <tr>\n",
       "      <th>2</th>\n",
       "      <td>2020-10-09</td>\n",
       "      <td>0337df40320046868541387de9a4604a</td>\n",
       "      <td>2020-10-11 05:12:55</td>\n",
       "      <td>20201010-200234</td>\n",
       "      <td>2020101101-i-04a9a906e1cd5620c-iKxevjMEAxdo87a...</td>\n",
       "      <td>V8PLIST_20201010211124.V8</td>\n",
       "      <td>2020-10-10 00:13:13</td>\n",
       "      <td>2020-10-11 01:11:40</td>\n",
       "      <td>2020-10-09 20:13:13</td>\n",
       "      <td>2020-10-10 21:11:40</td>\n",
       "      <td>...</td>\n",
       "      <td>5222.0</td>\n",
       "      <td>34.0</td>\n",
       "      <td>567808.0</td>\n",
       "      <td>77824.0</td>\n",
       "      <td>1390.0</td>\n",
       "      <td>6700.0</td>\n",
       "      <td>0.0</td>\n",
       "      <td>0.0</td>\n",
       "      <td>4610.50</td>\n",
       "      <td>9856.0</td>\n",
       "    </tr>\n",
       "    <tr>\n",
       "      <th>3</th>\n",
       "      <td>2020-10-09</td>\n",
       "      <td>0337df40320046868541387de9a4604a</td>\n",
       "      <td>2020-10-11 05:12:55</td>\n",
       "      <td>20201010-200234</td>\n",
       "      <td>2020101101-i-04a9a906e1cd5620c-iKxevjMEAxdo87a...</td>\n",
       "      <td>V8PLIST_20201010211124.V8</td>\n",
       "      <td>2020-10-10 00:13:13</td>\n",
       "      <td>2020-10-11 01:11:40</td>\n",
       "      <td>2020-10-09 20:13:13</td>\n",
       "      <td>2020-10-10 21:11:40</td>\n",
       "      <td>...</td>\n",
       "      <td>134836.0</td>\n",
       "      <td>113.0</td>\n",
       "      <td>25563136.0</td>\n",
       "      <td>1294336.0</td>\n",
       "      <td>941.0</td>\n",
       "      <td>4407.0</td>\n",
       "      <td>31.0</td>\n",
       "      <td>136.0</td>\n",
       "      <td>24556.00</td>\n",
       "      <td>62092.0</td>\n",
       "    </tr>\n",
       "    <tr>\n",
       "      <th>4</th>\n",
       "      <td>2020-10-09</td>\n",
       "      <td>0337df40320046868541387de9a4604a</td>\n",
       "      <td>2020-10-11 05:12:55</td>\n",
       "      <td>20201010-200234</td>\n",
       "      <td>2020101101-i-04a9a906e1cd5620c-iKxevjMEAxdo87a...</td>\n",
       "      <td>V8PLIST_20201010211124.V8</td>\n",
       "      <td>2020-10-10 00:13:13</td>\n",
       "      <td>2020-10-11 01:11:40</td>\n",
       "      <td>2020-10-09 20:13:13</td>\n",
       "      <td>2020-10-10 21:11:40</td>\n",
       "      <td>...</td>\n",
       "      <td>250028.0</td>\n",
       "      <td>46.0</td>\n",
       "      <td>27904000.0</td>\n",
       "      <td>14118912.0</td>\n",
       "      <td>16489.0</td>\n",
       "      <td>925957.0</td>\n",
       "      <td>38762.0</td>\n",
       "      <td>9695629.0</td>\n",
       "      <td>22974.40</td>\n",
       "      <td>110468.0</td>\n",
       "    </tr>\n",
       "    <tr>\n",
       "      <th>...</th>\n",
       "      <td>...</td>\n",
       "      <td>...</td>\n",
       "      <td>...</td>\n",
       "      <td>...</td>\n",
       "      <td>...</td>\n",
       "      <td>...</td>\n",
       "      <td>...</td>\n",
       "      <td>...</td>\n",
       "      <td>...</td>\n",
       "      <td>...</td>\n",
       "      <td>...</td>\n",
       "      <td>...</td>\n",
       "      <td>...</td>\n",
       "      <td>...</td>\n",
       "      <td>...</td>\n",
       "      <td>...</td>\n",
       "      <td>...</td>\n",
       "      <td>...</td>\n",
       "      <td>...</td>\n",
       "      <td>...</td>\n",
       "      <td>...</td>\n",
       "    </tr>\n",
       "    <tr>\n",
       "      <th>534</th>\n",
       "      <td>2020-11-25</td>\n",
       "      <td>fb32b796280049769bfa89e6f54b1871</td>\n",
       "      <td>2021-01-08 06:07:58</td>\n",
       "      <td>20210107-190233</td>\n",
       "      <td>2021010717-i-0728cf8ab79db9e58-M1WyLGi5xwS6Obe...</td>\n",
       "      <td>V8PLIST_20210107094614.V8</td>\n",
       "      <td>2020-11-20 17:00:09</td>\n",
       "      <td>2021-01-07 16:40:49</td>\n",
       "      <td>2020-11-20 10:00:09</td>\n",
       "      <td>2021-01-07 09:40:49</td>\n",
       "      <td>...</td>\n",
       "      <td>NaN</td>\n",
       "      <td>NaN</td>\n",
       "      <td>NaN</td>\n",
       "      <td>NaN</td>\n",
       "      <td>NaN</td>\n",
       "      <td>NaN</td>\n",
       "      <td>NaN</td>\n",
       "      <td>NaN</td>\n",
       "      <td>NaN</td>\n",
       "      <td>NaN</td>\n",
       "    </tr>\n",
       "    <tr>\n",
       "      <th>535</th>\n",
       "      <td>2020-11-25</td>\n",
       "      <td>fb32b796280049769bfa89e6f54b1871</td>\n",
       "      <td>2021-01-08 06:07:58</td>\n",
       "      <td>20210107-190233</td>\n",
       "      <td>2021010717-i-0728cf8ab79db9e58-M1WyLGi5xwS6Obe...</td>\n",
       "      <td>V8PLIST_20210107094614.V8</td>\n",
       "      <td>2020-11-20 17:00:09</td>\n",
       "      <td>2021-01-07 16:40:49</td>\n",
       "      <td>2020-11-20 10:00:09</td>\n",
       "      <td>2021-01-07 09:40:49</td>\n",
       "      <td>...</td>\n",
       "      <td>3407.0</td>\n",
       "      <td>1231.0</td>\n",
       "      <td>0.0</td>\n",
       "      <td>3653632.0</td>\n",
       "      <td>0.0</td>\n",
       "      <td>0.0</td>\n",
       "      <td>0.0</td>\n",
       "      <td>0.0</td>\n",
       "      <td>1423.00</td>\n",
       "      <td>10728.0</td>\n",
       "    </tr>\n",
       "    <tr>\n",
       "      <th>536</th>\n",
       "      <td>2020-11-25</td>\n",
       "      <td>fb32b796280049769bfa89e6f54b1871</td>\n",
       "      <td>2021-01-08 06:07:58</td>\n",
       "      <td>20210107-190233</td>\n",
       "      <td>2021010717-i-0728cf8ab79db9e58-M1WyLGi5xwS6Obe...</td>\n",
       "      <td>V8PLIST_20210107094614.V8</td>\n",
       "      <td>2020-11-20 17:00:09</td>\n",
       "      <td>2021-01-07 16:40:49</td>\n",
       "      <td>2020-11-20 10:00:09</td>\n",
       "      <td>2021-01-07 09:40:49</td>\n",
       "      <td>...</td>\n",
       "      <td>NaN</td>\n",
       "      <td>NaN</td>\n",
       "      <td>NaN</td>\n",
       "      <td>NaN</td>\n",
       "      <td>NaN</td>\n",
       "      <td>NaN</td>\n",
       "      <td>NaN</td>\n",
       "      <td>NaN</td>\n",
       "      <td>NaN</td>\n",
       "      <td>NaN</td>\n",
       "    </tr>\n",
       "    <tr>\n",
       "      <th>537</th>\n",
       "      <td>2020-11-25</td>\n",
       "      <td>fb32b796280049769bfa89e6f54b1871</td>\n",
       "      <td>2021-01-08 06:07:58</td>\n",
       "      <td>20210107-190233</td>\n",
       "      <td>2021010717-i-0728cf8ab79db9e58-M1WyLGi5xwS6Obe...</td>\n",
       "      <td>V8PLIST_20210107094614.V8</td>\n",
       "      <td>2020-11-20 17:00:09</td>\n",
       "      <td>2021-01-07 16:40:49</td>\n",
       "      <td>2020-11-20 10:00:09</td>\n",
       "      <td>2021-01-07 09:40:49</td>\n",
       "      <td>...</td>\n",
       "      <td>4594.0</td>\n",
       "      <td>221.0</td>\n",
       "      <td>2357760.0</td>\n",
       "      <td>8192.0</td>\n",
       "      <td>0.0</td>\n",
       "      <td>0.0</td>\n",
       "      <td>0.0</td>\n",
       "      <td>0.0</td>\n",
       "      <td>11444.00</td>\n",
       "      <td>13812.0</td>\n",
       "    </tr>\n",
       "    <tr>\n",
       "      <th>538</th>\n",
       "      <td>2020-11-25</td>\n",
       "      <td>fb32b796280049769bfa89e6f54b1871</td>\n",
       "      <td>2021-01-08 06:07:58</td>\n",
       "      <td>20210107-190233</td>\n",
       "      <td>2021010717-i-0728cf8ab79db9e58-M1WyLGi5xwS6Obe...</td>\n",
       "      <td>V8PLIST_20210107094614.V8</td>\n",
       "      <td>2020-11-20 17:00:09</td>\n",
       "      <td>2021-01-07 16:40:49</td>\n",
       "      <td>2020-11-20 10:00:09</td>\n",
       "      <td>2021-01-07 09:40:49</td>\n",
       "      <td>...</td>\n",
       "      <td>475265.0</td>\n",
       "      <td>5345.0</td>\n",
       "      <td>272555008.0</td>\n",
       "      <td>605409280.0</td>\n",
       "      <td>0.0</td>\n",
       "      <td>0.0</td>\n",
       "      <td>0.0</td>\n",
       "      <td>0.0</td>\n",
       "      <td>156599.75</td>\n",
       "      <td>655416.0</td>\n",
       "    </tr>\n",
       "  </tbody>\n",
       "</table>\n",
       "<p>21675415 rows × 30 columns</p>\n",
       "</div>"
      ],
      "text/plain": [
       "             dt                              guid              load_ts  \\\n",
       "0    2020-10-09  0337df40320046868541387de9a4604a  2020-10-11 05:12:55   \n",
       "1    2020-10-09  0337df40320046868541387de9a4604a  2020-10-11 05:12:55   \n",
       "2    2020-10-09  0337df40320046868541387de9a4604a  2020-10-11 05:12:55   \n",
       "3    2020-10-09  0337df40320046868541387de9a4604a  2020-10-11 05:12:55   \n",
       "4    2020-10-09  0337df40320046868541387de9a4604a  2020-10-11 05:12:55   \n",
       "..          ...                               ...                  ...   \n",
       "534  2020-11-25  fb32b796280049769bfa89e6f54b1871  2021-01-08 06:07:58   \n",
       "535  2020-11-25  fb32b796280049769bfa89e6f54b1871  2021-01-08 06:07:58   \n",
       "536  2020-11-25  fb32b796280049769bfa89e6f54b1871  2021-01-08 06:07:58   \n",
       "537  2020-11-25  fb32b796280049769bfa89e6f54b1871  2021-01-08 06:07:58   \n",
       "538  2020-11-25  fb32b796280049769bfa89e6f54b1871  2021-01-08 06:07:58   \n",
       "\n",
       "            batch_id                                          audit_zip  \\\n",
       "0    20201010-200234  2020101101-i-04a9a906e1cd5620c-iKxevjMEAxdo87a...   \n",
       "1    20201010-200234  2020101101-i-04a9a906e1cd5620c-iKxevjMEAxdo87a...   \n",
       "2    20201010-200234  2020101101-i-04a9a906e1cd5620c-iKxevjMEAxdo87a...   \n",
       "3    20201010-200234  2020101101-i-04a9a906e1cd5620c-iKxevjMEAxdo87a...   \n",
       "4    20201010-200234  2020101101-i-04a9a906e1cd5620c-iKxevjMEAxdo87a...   \n",
       "..               ...                                                ...   \n",
       "534  20210107-190233  2021010717-i-0728cf8ab79db9e58-M1WyLGi5xwS6Obe...   \n",
       "535  20210107-190233  2021010717-i-0728cf8ab79db9e58-M1WyLGi5xwS6Obe...   \n",
       "536  20210107-190233  2021010717-i-0728cf8ab79db9e58-M1WyLGi5xwS6Obe...   \n",
       "537  20210107-190233  2021010717-i-0728cf8ab79db9e58-M1WyLGi5xwS6Obe...   \n",
       "538  20210107-190233  2021010717-i-0728cf8ab79db9e58-M1WyLGi5xwS6Obe...   \n",
       "\n",
       "           audit_internal_path   interval_start_utc     interval_end_utc  \\\n",
       "0    V8PLIST_20201010211124.V8  2020-10-10 00:13:13  2020-10-11 01:11:40   \n",
       "1    V8PLIST_20201010211124.V8  2020-10-10 00:13:13  2020-10-11 01:11:40   \n",
       "2    V8PLIST_20201010211124.V8  2020-10-10 00:13:13  2020-10-11 01:11:40   \n",
       "3    V8PLIST_20201010211124.V8  2020-10-10 00:13:13  2020-10-11 01:11:40   \n",
       "4    V8PLIST_20201010211124.V8  2020-10-10 00:13:13  2020-10-11 01:11:40   \n",
       "..                         ...                  ...                  ...   \n",
       "534  V8PLIST_20210107094614.V8  2020-11-20 17:00:09  2021-01-07 16:40:49   \n",
       "535  V8PLIST_20210107094614.V8  2020-11-20 17:00:09  2021-01-07 16:40:49   \n",
       "536  V8PLIST_20210107094614.V8  2020-11-20 17:00:09  2021-01-07 16:40:49   \n",
       "537  V8PLIST_20210107094614.V8  2020-11-20 17:00:09  2021-01-07 16:40:49   \n",
       "538  V8PLIST_20210107094614.V8  2020-11-20 17:00:09  2021-01-07 16:40:49   \n",
       "\n",
       "    interval_local_start   interval_local_end  ... page_faults  \\\n",
       "0    2020-10-09 20:13:13  2020-10-10 21:11:40  ...      3111.0   \n",
       "1    2020-10-09 20:13:13  2020-10-10 21:11:40  ...      3839.0   \n",
       "2    2020-10-09 20:13:13  2020-10-10 21:11:40  ...      5222.0   \n",
       "3    2020-10-09 20:13:13  2020-10-10 21:11:40  ...    134836.0   \n",
       "4    2020-10-09 20:13:13  2020-10-10 21:11:40  ...    250028.0   \n",
       "..                   ...                  ...  ...         ...   \n",
       "534  2020-11-20 10:00:09  2021-01-07 09:40:49  ...         NaN   \n",
       "535  2020-11-20 10:00:09  2021-01-07 09:40:49  ...      3407.0   \n",
       "536  2020-11-20 10:00:09  2021-01-07 09:40:49  ...         NaN   \n",
       "537  2020-11-20 10:00:09  2021-01-07 09:40:49  ...      4594.0   \n",
       "538  2020-11-20 10:00:09  2021-01-07 09:40:49  ...    475265.0   \n",
       "\n",
       "    hard_page_faults disk_read_iobytes  disk_write_iobytes  tcpip_sendbytes  \\\n",
       "0               45.0               0.0                 0.0              0.0   \n",
       "1                0.0               0.0                 0.0              0.0   \n",
       "2               34.0          567808.0             77824.0           1390.0   \n",
       "3              113.0        25563136.0           1294336.0            941.0   \n",
       "4               46.0        27904000.0          14118912.0          16489.0   \n",
       "..               ...               ...                 ...              ...   \n",
       "534              NaN               NaN                 NaN              NaN   \n",
       "535           1231.0               0.0           3653632.0              0.0   \n",
       "536              NaN               NaN                 NaN              NaN   \n",
       "537            221.0         2357760.0              8192.0              0.0   \n",
       "538           5345.0       272555008.0         605409280.0              0.0   \n",
       "\n",
       "     tcpip_receivebytes  udpip_sendbytes  udpip_receivebytes  avg_memory  \\\n",
       "0                   0.0              0.0                 0.0     3521.00   \n",
       "1                   0.0              0.0                 0.0     7390.00   \n",
       "2                6700.0              0.0                 0.0     4610.50   \n",
       "3                4407.0             31.0               136.0    24556.00   \n",
       "4              925957.0          38762.0           9695629.0    22974.40   \n",
       "..                  ...              ...                 ...         ...   \n",
       "534                 NaN              NaN                 NaN         NaN   \n",
       "535                 0.0              0.0                 0.0     1423.00   \n",
       "536                 NaN              NaN                 NaN         NaN   \n",
       "537                 0.0              0.0                 0.0    11444.00   \n",
       "538                 0.0              0.0                 0.0   156599.75   \n",
       "\n",
       "     peak_memory  \n",
       "0         3940.0  \n",
       "1         7692.0  \n",
       "2         9856.0  \n",
       "3        62092.0  \n",
       "4       110468.0  \n",
       "..           ...  \n",
       "534          NaN  \n",
       "535      10728.0  \n",
       "536          NaN  \n",
       "537      13812.0  \n",
       "538     655416.0  \n",
       "\n",
       "[21675415 rows x 30 columns]"
      ]
     },
     "execution_count": 12,
     "metadata": {},
     "output_type": "execute_result"
    }
   ],
   "source": [
    "process = pd.read_csv(PROCESS_OUTFP1)\n",
    "newcol = ['dt', 'guid','load_ts','batch_id','audit_zip','audit_internal_path','interval_start_utc', \n",
    " 'interval_end_utc', 'interval_local_start',\n",
    "       'interval_local_end', 'ts','proc_name', 'exe_hash',\n",
    "       'num_runs', 'ttl_run_tm_in_ms', 'cpu_user_sec', 'cpu_kernel_sec',\n",
    "       'io_bytes_read', 'io_bytes_write', 'io_bytes_other', 'page_faults',\n",
    "       'hard_page_faults', 'disk_read_iobytes', 'disk_write_iobytes',\n",
    "       'tcpip_sendbytes', 'tcpip_receivebytes', 'udpip_sendbytes',\n",
    "       'udpip_receivebytes', 'avg_memory', 'peak_memory']\n",
    "process.columns = newcol\n",
    "process"
   ]
  },
  {
   "cell_type": "code",
   "execution_count": 13,
   "metadata": {},
   "outputs": [
    {
     "data": {
      "text/plain": [
       "2817"
      ]
     },
     "execution_count": 13,
     "metadata": {},
     "output_type": "execute_result"
    }
   ],
   "source": [
    "len(set(process.guid))"
   ]
  },
  {
   "cell_type": "markdown",
   "metadata": {},
   "source": [
    "5. read cpu file --> # guids 26640"
   ]
  },
  {
   "cell_type": "code",
   "execution_count": 29,
   "metadata": {
    "scrolled": true
   },
   "outputs": [],
   "source": [
    "# battery_filtered(needed_guids, DATES, HW_INFP1, HW_OUTFP1)"
   ]
  },
  {
   "cell_type": "code",
   "execution_count": 30,
   "metadata": {},
   "outputs": [],
   "source": [
    "# battery_filtered(needed_guids, DATES, HW_INFP2, HW_OUTFP2)"
   ]
  },
  {
   "cell_type": "code",
   "execution_count": 14,
   "metadata": {},
   "outputs": [],
   "source": [
    "cpu1 = pd.read_csv(HW_OUTFP1)\n",
    "cpu2 = pd.read_csv(HW_OUTFP2)\n",
    "cpu = cpu1.append(cpu2)\n",
    "newcol = ['dt', 'guid','load_ts','batch_id','audit_zip','audit_internal_path',\n",
    "       'interval_start_utc', 'interval_end_utc', 'interval_local_start',\n",
    "       'interval_local_end', 'name', 'instance', 'nrs', 'mean',\n",
    "       'histogram_min', 'histogram_max', 'bin_1', 'bin_2', 'bin_3', 'bin_4',\n",
    "       'bin_5', 'bin_6', 'bin_7', 'bin_8', 'bin_9', 'bin_10',\n",
    "       'metric_max_val']\n",
    "cpu.columns = newcol"
   ]
  },
  {
   "cell_type": "code",
   "execution_count": 15,
   "metadata": {},
   "outputs": [
    {
     "data": {
      "text/plain": [
       "26640"
      ]
     },
     "execution_count": 15,
     "metadata": {},
     "output_type": "execute_result"
    }
   ],
   "source": [
    "len(set(cpu.guid))"
   ]
  },
  {
   "cell_type": "markdown",
   "metadata": {},
   "source": [
    "# EDA"
   ]
  },
  {
   "cell_type": "code",
   "execution_count": 16,
   "metadata": {},
   "outputs": [
    {
     "name": "stdout",
     "output_type": "stream",
     "text": [
      "device_use: ('2020-09-01', '2020-09-30')\n",
      "device_use guid #: 40369\n",
      "battery_event: ('2020-09-01', '2020-09-30')\n",
      "battery_event guid #: 32931\n",
      "battery_info: ('2020-09-01', '2020-09-30')\n",
      "battery_info guid #: 32906\n",
      "process: ('2020-10-09', '2020-11-30')\n",
      "process guid #: 2817\n",
      "cpu: ('2020-09-01', '2020-09-30')\n",
      "cpu guid #: 26640\n"
     ]
    }
   ],
   "source": [
    "print('device_use: '+ str((device_use.dt.min(),device_use.dt.max())))\n",
    "print('device_use guid #: '+ str(len(set(device_use.guid))))\n",
    "\n",
    "print('battery_event: '+ str((battery_event.dt.min(),battery_event.dt.max())))\n",
    "print('battery_event guid #: '+ str(len(set(battery_event.guid))))\n",
    "\n",
    "print('battery_info: '+ str((battery_info.dt.min(),battery_info.dt.max())))\n",
    "print('battery_info guid #: '+ str(len(set(battery_info.guid))))\n",
    "\n",
    "print('process: '+ str((process.dt.min(),process.dt.max())))\n",
    "print('process guid #: '+ str(len(set(process.guid))))\n",
    "\n",
    "print('cpu: '+ str((cpu.dt.min(),cpu.dt.max())))\n",
    "print('cpu guid #: '+ str(len(set(cpu.guid))))\n"
   ]
  },
  {
   "cell_type": "markdown",
   "metadata": {},
   "source": [
    "After extracting data from zip files, those are guids we have for each dataset."
   ]
  },
  {
   "cell_type": "markdown",
   "metadata": {},
   "source": [
    "## First guessing: ` battery minutes remaining ` is related with ` number of devices `"
   ]
  },
  {
   "cell_type": "markdown",
   "metadata": {},
   "source": [
    "## - device_use Dataset"
   ]
  },
  {
   "cell_type": "markdown",
   "metadata": {},
   "source": [
    "Before doing regression analysis on number of devices, we anticipate that there would be a low correlation between battery minutes remaining and number of devices as Teams suggest us that different devices would require defferent level of power to run."
   ]
  },
  {
   "cell_type": "code",
   "execution_count": 17,
   "metadata": {},
   "outputs": [
    {
     "data": {
      "text/plain": [
       "guid\n",
       "00001551e16943a6b157c51db598b7db    17\n",
       "00001c102af449edb60362a605fa477f     9\n",
       "00004b62911e4b1a89a29e14d2dbe3aa    10\n",
       "00004ee39cfd440cb5ee49382b0e6931    20\n",
       "000061fd80b5402ba4c62b9602c5a29a     3\n",
       "                                    ..\n",
       "ffe309e3d3134c28b521a946f6df0231    24\n",
       "ffeb9e5c63004a58bcb556891bc46332    24\n",
       "ffee696125554903b8ab386c810542aa    15\n",
       "fff70dd0414748ae899286963efbd3e3    30\n",
       "fff70e1fbcb74d1eb51ff8a28cef630d    11\n",
       "Name: name, Length: 32931, dtype: int64"
      ]
     },
     "execution_count": 17,
     "metadata": {},
     "output_type": "execute_result"
    }
   ],
   "source": [
    "data1 = battery_event.groupby(['guid']).battery_minutes_remaining.mean()\n",
    "# data1 = data1.loc[data1>0]\n",
    "\n",
    "data2 = device_use.set_index('guid').loc[set(battery_event.guid)].reset_index().groupby(['guid']).name.count().sort_index()\n",
    "num_devices = data2.loc[data1.index]\n",
    "num_devices"
   ]
  },
  {
   "cell_type": "code",
   "execution_count": 18,
   "metadata": {},
   "outputs": [],
   "source": [
    "# data1 = battery_event.groupby(['guid']).battery_minutes_remaining.mean()\n",
    "# data1 = data1.loc[data1>0]\n",
    "\n",
    "# data2 = device_use.set_index('guid').loc[set(battery_event.guid)].reset_index().groupby(['guid']).name.count().sort_index()\n",
    "# num_devices = data2.loc[data1.index]\n",
    "\n",
    "\n",
    "# fig, ax1 = plt.subplots(figsize=(20, 10))\n",
    "# color = 'tab:red'\n",
    "# ax1.set_xlabel('guid')\n",
    "# ax1.set_ylabel('avg battery_minutes_remaining', color=color)\n",
    "# ax1.plot(data1.index, data1, color=color) \n",
    "# ax1.tick_params(axis='y', labelcolor=color)\n",
    "\n",
    "# ax2 = ax1.twinx()\n",
    "\n",
    "# color = 'tab:blue'\n",
    "# ax2.set_ylabel('device counts', color=color)\n",
    "# ax2.plot(data1.index, num_devices, color=color)\n",
    "# ax2.tick_params(axis='y', labelcolor=color)\n",
    "\n",
    "# plt.show()\n"
   ]
  },
  {
   "cell_type": "code",
   "execution_count": 19,
   "metadata": {},
   "outputs": [
    {
     "data": {
      "text/plain": [
       "array([[ 1.        , -0.00903745],\n",
       "       [-0.00903745,  1.        ]])"
      ]
     },
     "execution_count": 19,
     "metadata": {},
     "output_type": "execute_result"
    }
   ],
   "source": [
    "np.corrcoef(data1, num_devices)"
   ]
  },
  {
   "cell_type": "markdown",
   "metadata": {},
   "source": [
    "This correlation suggests that our initial guess is right. Also, the negative correlation indicates that there exists a opposite trend between number of devices and battery remaining time. Therefore, we could say that as the number of devices increase, battery remaining time would decrease."
   ]
  },
  {
   "cell_type": "markdown",
   "metadata": {},
   "source": [
    "## - process Dataset"
   ]
  },
  {
   "cell_type": "markdown",
   "metadata": {},
   "source": [
    "## Second guessing: ` battery minutes remaining ` is related with ` number of process `"
   ]
  },
  {
   "cell_type": "code",
   "execution_count": 20,
   "metadata": {},
   "outputs": [],
   "source": [
    "data1 = battery_event.groupby(['guid']).battery_minutes_remaining.mean()\n",
    "# data1 = data1.loc[data1>0]\n",
    "\n",
    "needed = set(battery_event.guid).intersection(set(process.guid))\n",
    "num_proc = process.set_index('guid').loc[needed].reset_index().groupby(['guid']).proc_name.count().sort_index()\n",
    "\n",
    "data1 = data1.loc[set(num_proc.index).intersection(data1.index)]\n",
    "num_proc = num_proc.loc[data1.index]\n"
   ]
  },
  {
   "cell_type": "code",
   "execution_count": 21,
   "metadata": {},
   "outputs": [],
   "source": [
    "# data1 = battery_event.groupby(['guid']).battery_minutes_remaining.mean()\n",
    "# data1 = data1.loc[data1>0]\n",
    "\n",
    "# needed = set(battery_event.guid).intersection(set(process.guid))\n",
    "# num_proc = process.set_index('guid').loc[needed].reset_index().groupby(['guid']).proc_name.count().sort_index()\n",
    "\n",
    "# data1 = data1.loc[set(num_proc.index).intersection(data1.index)]\n",
    "# num_proc = num_proc.loc[data1.index]\n",
    "\n",
    "\n",
    "# fig, ax1 = plt.subplots(figsize=(20, 10))\n",
    "# color = 'tab:red'\n",
    "# ax1.set_xlabel('guid')\n",
    "# ax1.set_ylabel('avg battery_minutes_remaining', color=color)\n",
    "# ax1.plot(data1.index, data1, color=color) \n",
    "# ax1.tick_params(axis='y', labelcolor=color)\n",
    "\n",
    "# ax2 = ax1.twinx()\n",
    "\n",
    "# color = 'tab:blue'\n",
    "# ax2.set_ylabel('process counts', color=color)\n",
    "# ax2.plot(data1.index, num_proc, color=color)\n",
    "# ax2.tick_params(axis='y', labelcolor=color)\n",
    "\n",
    "# plt.show()\n"
   ]
  },
  {
   "cell_type": "code",
   "execution_count": 22,
   "metadata": {},
   "outputs": [
    {
     "data": {
      "text/plain": [
       "array([[ 1.      , -0.001405],\n",
       "       [-0.001405,  1.      ]])"
      ]
     },
     "execution_count": 22,
     "metadata": {},
     "output_type": "execute_result"
    }
   ],
   "source": [
    "np.corrcoef(data1, num_proc)"
   ]
  },
  {
   "cell_type": "markdown",
   "metadata": {},
   "source": [
    "Negative Correlation: 2.33% of change in battery minutes remaining is explained by number of processes. As number of processes increases, battery minutes remaining would decrease;"
   ]
  },
  {
   "cell_type": "markdown",
   "metadata": {},
   "source": [
    "## Third guessing: ` battery minutes remaining ` is related with ` Average Page Faults `"
   ]
  },
  {
   "cell_type": "code",
   "execution_count": 23,
   "metadata": {},
   "outputs": [],
   "source": [
    "data1 = battery_event.groupby(['guid']).battery_minutes_remaining.mean()\n",
    "# data1 = data1.loc[data1>0]\n",
    "\n",
    "needed = set(battery_event.guid).intersection(set(process.guid))\n",
    "page_faults = process.set_index('guid').loc[needed].reset_index().groupby(['guid']).page_faults.mean().sort_index()\n",
    "\n",
    "data1 = data1.loc[set(page_faults.index).intersection(data1.index)]\n",
    "page_faults = page_faults.loc[data1.index]"
   ]
  },
  {
   "cell_type": "code",
   "execution_count": 24,
   "metadata": {},
   "outputs": [],
   "source": [
    "# data1 = battery_event.groupby(['guid']).battery_minutes_remaining.mean()\n",
    "# data1 = data1.loc[data1>0]\n",
    "\n",
    "# needed = set(battery_event.guid).intersection(set(process.guid))\n",
    "# page_faults = process.set_index('guid').loc[needed].reset_index().groupby(['guid']).page_faults.mean().sort_index()\n",
    "\n",
    "# data1 = data1.loc[set(page_faults.index).intersection(data1.index)]\n",
    "# page_faults = page_faults.loc[data1.index]\n",
    "\n",
    "\n",
    "# fig, ax1 = plt.subplots(figsize=(20, 10))\n",
    "# color = 'tab:red'\n",
    "# ax1.set_xlabel('guid')\n",
    "# ax1.set_ylabel('avg battery_minutes_remaining', color=color)\n",
    "# ax1.plot(data1.index, data1, color=color) \n",
    "# ax1.tick_params(axis='y', labelcolor=color)\n",
    "\n",
    "# ax2 = ax1.twinx()\n",
    "\n",
    "# color = 'tab:blue'\n",
    "# ax2.set_ylabel('average page faults', color=color)\n",
    "# ax2.plot(data1.index, page_faults, color=color)\n",
    "# ax2.tick_params(axis='y', labelcolor=color)\n",
    "\n",
    "# plt.show()"
   ]
  },
  {
   "cell_type": "code",
   "execution_count": 25,
   "metadata": {},
   "outputs": [
    {
     "data": {
      "text/plain": [
       "array([[ 1.        , -0.01704054],\n",
       "       [-0.01704054,  1.        ]])"
      ]
     },
     "execution_count": 25,
     "metadata": {},
     "output_type": "execute_result"
    }
   ],
   "source": [
    "np.corrcoef(data1, page_faults)"
   ]
  },
  {
   "cell_type": "markdown",
   "metadata": {},
   "source": [
    "Negative Correlation: 1.71% of change in battery minutes remaining is explained by average page faults. As number of average page faults increases, battery minutes remaining would decrease;"
   ]
  },
  {
   "cell_type": "markdown",
   "metadata": {},
   "source": [
    "## Fourth guessing: ` battery minutes remaining ` is related with ` Average Memory`"
   ]
  },
  {
   "cell_type": "code",
   "execution_count": 26,
   "metadata": {},
   "outputs": [],
   "source": [
    "data1 = battery_event.groupby(['guid']).battery_minutes_remaining.mean()\n",
    "# data1 = data1.loc[data1>0]\n",
    "\n",
    "needed = set(battery_event.guid).intersection(set(process.guid))\n",
    "data2 = process.set_index('guid').loc[needed].reset_index().groupby(['guid']).avg_memory.mean().sort_index()\n",
    "\n",
    "data1 = data1.loc[set(data2.index).intersection(data1.index)]\n",
    "avg_memory = data2.loc[data1.index]"
   ]
  },
  {
   "cell_type": "code",
   "execution_count": 27,
   "metadata": {},
   "outputs": [],
   "source": [
    "# data1 = battery_event.groupby(['guid']).battery_minutes_remaining.mean()\n",
    "# data1 = data1.loc[data1>0]\n",
    "\n",
    "# needed = set(battery_event.guid).intersection(set(process.guid))\n",
    "# data2 = process.set_index('guid').loc[needed].reset_index().groupby(['guid']).avg_memory.mean().sort_index()\n",
    "\n",
    "# data1 = data1.loc[set(data2.index).intersection(data1.index)]\n",
    "# avg_memory = data2.loc[data1.index]\n",
    "\n",
    "\n",
    "# fig, ax1 = plt.subplots(figsize=(20, 10))\n",
    "# color = 'tab:red'\n",
    "# ax1.set_xlabel('guid')\n",
    "# ax1.set_ylabel('avg battery_minutes_remaining', color=color)\n",
    "# ax1.plot(data1.index, data1, color=color) \n",
    "# ax1.tick_params(axis='y', labelcolor=color)\n",
    "\n",
    "# ax2 = ax1.twinx()\n",
    "\n",
    "# color = 'tab:blue'\n",
    "# ax2.set_ylabel('Average Memory', color=color)\n",
    "# ax2.plot(data1.index, avg_memory, color=color)\n",
    "# ax2.tick_params(axis='y', labelcolor=color)\n",
    "\n",
    "# plt.show()"
   ]
  },
  {
   "cell_type": "code",
   "execution_count": 28,
   "metadata": {},
   "outputs": [
    {
     "data": {
      "text/plain": [
       "array([[1.       , 0.0050973],\n",
       "       [0.0050973, 1.       ]])"
      ]
     },
     "execution_count": 28,
     "metadata": {},
     "output_type": "execute_result"
    }
   ],
   "source": [
    "np.corrcoef(data1, avg_memory)"
   ]
  },
  {
   "cell_type": "markdown",
   "metadata": {},
   "source": [
    "Positive Correlation: 0.387% of change in battery minutes remaining is explained by average memory. As number of average memory increases, battery minutes remaining would decrease;"
   ]
  },
  {
   "cell_type": "markdown",
   "metadata": {},
   "source": [
    "## Fifth guessing: ` battery minutes remaining ` is related with `cpu_user_sec\t` + `cpu_kernel_sec\t`"
   ]
  },
  {
   "cell_type": "code",
   "execution_count": 29,
   "metadata": {},
   "outputs": [],
   "source": [
    "data1 = battery_event.groupby(['guid']).battery_minutes_remaining.mean()\n",
    "# data1 = data1.loc[data1>0]\n",
    "\n",
    "needed = set(battery_event.guid).intersection(set(process.guid))\n",
    "process['cpu_sec']= process['cpu_user_sec']+process['cpu_kernel_sec']\n",
    "data2 = process.set_index('guid').loc[needed].reset_index().groupby(['guid']).cpu_sec.mean().sort_index()\n",
    "\n",
    "data1 = data1.loc[set(data2.index).intersection(data1.index)]\n",
    "cpu_sec = data2.loc[data1.index]"
   ]
  },
  {
   "cell_type": "code",
   "execution_count": 30,
   "metadata": {},
   "outputs": [],
   "source": [
    "# data1 = battery_event.groupby(['guid']).battery_minutes_remaining.mean()\n",
    "# data1 = data1.loc[data1>0]\n",
    "\n",
    "# needed = set(battery_event.guid).intersection(set(process.guid))\n",
    "# process['cpu_sec']= process['cpu_user_sec']+process['cpu_kernel_sec']\n",
    "# data2 = process.set_index('guid').loc[needed].reset_index().groupby(['guid']).cpu_sec.mean().sort_index()\n",
    "\n",
    "# data1 = data1.loc[set(data2.index).intersection(data1.index)]\n",
    "# cpu_sec = data2.loc[data1.index]\n",
    "\n",
    "\n",
    "# fig, ax1 = plt.subplots(figsize=(20, 10))\n",
    "# color = 'tab:red'\n",
    "# ax1.set_xlabel('guid')\n",
    "# ax1.set_ylabel('avg battery_minutes_remaining', color=color)\n",
    "# ax1.plot(data1.index, data1, color=color) \n",
    "# ax1.tick_params(axis='y', labelcolor=color)\n",
    "\n",
    "# ax2 = ax1.twinx()\n",
    "\n",
    "# color = 'tab:blue'\n",
    "# ax2.set_ylabel('average cpu seconds', color=color)\n",
    "# ax2.plot(data1.index, cpu_sec, color=color)\n",
    "# ax2.tick_params(axis='y', labelcolor=color)\n",
    "\n",
    "# plt.show()"
   ]
  },
  {
   "cell_type": "code",
   "execution_count": 31,
   "metadata": {},
   "outputs": [
    {
     "data": {
      "text/plain": [
       "array([[ 1.        , -0.01429796],\n",
       "       [-0.01429796,  1.        ]])"
      ]
     },
     "execution_count": 31,
     "metadata": {},
     "output_type": "execute_result"
    }
   ],
   "source": [
    "np.corrcoef(data1, cpu_sec)"
   ]
  },
  {
   "cell_type": "markdown",
   "metadata": {},
   "source": [
    "Negative Correlation: 2.49% of change in battery minutes remaining is explained by average cpu seconds. As number of average cpu seconds increases, battery minutes remaining would decrease;"
   ]
  },
  {
   "cell_type": "markdown",
   "metadata": {},
   "source": [
    "## - Battery_info Dataset"
   ]
  },
  {
   "cell_type": "markdown",
   "metadata": {},
   "source": [
    "## Sixth guessing: ` battery minutes remaining ` is related with `full_charge_capacity\t`"
   ]
  },
  {
   "cell_type": "code",
   "execution_count": 32,
   "metadata": {},
   "outputs": [],
   "source": [
    "data1 = battery_event.groupby(['guid']).battery_minutes_remaining.mean()\n",
    "# data1 = data1.loc[data1>0]\n",
    "needed = set(battery_event.guid).intersection(set(battery_info.guid))\n",
    "data2 = battery_info.set_index('guid').loc[needed].reset_index().groupby(['guid']).full_charge_capacity.mean().sort_index()\n",
    "data1 = data1.loc[set(data2.index).intersection(data1.index)]\n",
    "capacity = data2.loc[data1.index]"
   ]
  },
  {
   "cell_type": "code",
   "execution_count": 33,
   "metadata": {},
   "outputs": [],
   "source": [
    "# data1 = battery_event.groupby(['guid']).battery_minutes_remaining.mean()\n",
    "# data1 = data1.loc[data1>0]\n",
    "# needed = set(battery_event.guid).intersection(set(battery_info.guid))\n",
    "# data2 = battery_info.set_index('guid').loc[needed].reset_index().groupby(['guid']).full_charge_capacity.mean().sort_index()\n",
    "# data1 = data1.loc[set(data2.index).intersection(data1.index)]\n",
    "# capacity = data2.loc[data1.index]\n",
    "\n",
    "# fig, ax1 = plt.subplots(figsize=(20, 10))\n",
    "# color = 'tab:red'\n",
    "# ax1.set_xlabel('guid')\n",
    "# ax1.set_ylabel('avg battery_minutes_remaining', color=color)\n",
    "# ax1.plot(data1.index, data1, color=color) \n",
    "# ax1.tick_params(axis='y', labelcolor=color)\n",
    "\n",
    "# ax2 = ax1.twinx()\n",
    "\n",
    "# color = 'tab:blue'\n",
    "# ax2.set_ylabel('average full charge capacity', color=color)\n",
    "# ax2.plot(data1.index, capacity, color=color)\n",
    "# ax2.tick_params(axis='y', labelcolor=color)\n",
    "\n",
    "# plt.show()"
   ]
  },
  {
   "cell_type": "code",
   "execution_count": 34,
   "metadata": {},
   "outputs": [
    {
     "data": {
      "text/plain": [
       "array([[ 1.       , -0.0015245],\n",
       "       [-0.0015245,  1.       ]])"
      ]
     },
     "execution_count": 34,
     "metadata": {},
     "output_type": "execute_result"
    }
   ],
   "source": [
    "np.corrcoef(data1, capacity)"
   ]
  },
  {
   "cell_type": "markdown",
   "metadata": {},
   "source": [
    "Negative Correlation: 0.152% of change in battery minutes remaining is explained by full charged capacity. As number of full charged capacity increases, battery minutes remaining would decrease;"
   ]
  },
  {
   "cell_type": "markdown",
   "metadata": {},
   "source": [
    "## - hw_metric_histo Dataset"
   ]
  },
  {
   "cell_type": "markdown",
   "metadata": {},
   "source": [
    "## 7th guessing: ` battery minutes remaining ` is related with `cpu_percent`"
   ]
  },
  {
   "cell_type": "code",
   "execution_count": 35,
   "metadata": {},
   "outputs": [],
   "source": [
    "cpu_info = cpu.groupby(['guid','name'])['mean'].mean().reset_index(level=[0,1])\n",
    "cpu_percent = cpu_info.loc[cpu_info.name == 'HW::CORE:C0:PERCENT:']\n",
    "cpu_centi_temp = cpu_info.loc[cpu_info.name == 'HW::CORE:TEMPERATURE:CENTIGRADE:']"
   ]
  },
  {
   "cell_type": "code",
   "execution_count": 36,
   "metadata": {},
   "outputs": [],
   "source": [
    "data1 = battery_event.groupby(['guid']).battery_minutes_remaining.mean()\n",
    "# data1 = data1.loc[data1>0]\n",
    "\n",
    "needed = set(data1.index).intersection(set(cpu_percent.guid))\n",
    "cpu_percent = cpu_percent.set_index('guid').loc[needed]['mean']\n",
    "\n",
    "data1 = data1.loc[set(cpu_percent.index).intersection(data1.index)]\n",
    "cpu_percent = cpu_percent.loc[data1.index]"
   ]
  },
  {
   "cell_type": "code",
   "execution_count": 37,
   "metadata": {},
   "outputs": [],
   "source": [
    "# data1 = battery_event.groupby(['guid']).battery_minutes_remaining.mean()\n",
    "# data1 = data1.loc[data1>0]\n",
    "\n",
    "# needed = set(data1.index).intersection(set(cpu_percent.guid))\n",
    "# cpu_percent = cpu_percent.set_index('guid').loc[needed]['mean']\n",
    "\n",
    "# data1 = data1.loc[set(cpu_percent.index).intersection(data1.index)]\n",
    "# cpu_percent = cpu_percent.loc[data1.index]\n",
    "\n",
    "# fig, ax1 = plt.subplots(figsize=(20, 10))\n",
    "# color = 'tab:red'\n",
    "# ax1.set_xlabel('guid')\n",
    "# ax1.set_ylabel('avg battery_minutes_remaining', color=color)\n",
    "# ax1.plot(data1.index, data1, color=color) \n",
    "# ax1.tick_params(axis='y', labelcolor=color)\n",
    "\n",
    "# ax2 = ax1.twinx()\n",
    "\n",
    "# color = 'tab:blue'\n",
    "# ax2.set_ylabel('average cpu_percent', color=color)\n",
    "# ax2.plot(data1.index, cpu_percent, color=color)\n",
    "# ax2.tick_params(axis='y', labelcolor=color)\n",
    "\n",
    "# plt.show()"
   ]
  },
  {
   "cell_type": "code",
   "execution_count": 38,
   "metadata": {},
   "outputs": [
    {
     "data": {
      "text/plain": [
       "array([[ 1.        , -0.00439981],\n",
       "       [-0.00439981,  1.        ]])"
      ]
     },
     "execution_count": 38,
     "metadata": {},
     "output_type": "execute_result"
    }
   ],
   "source": [
    "np.corrcoef(data1, cpu_percent)"
   ]
  },
  {
   "cell_type": "markdown",
   "metadata": {},
   "source": [
    "Negative Correlation: 0.44% of change in battery minutes remaining is explained by CPU utilization per each CPU core. As CPU utilization per each CPU core increases, battery minutes remaining would decrease;"
   ]
  },
  {
   "cell_type": "markdown",
   "metadata": {},
   "source": [
    "## 8th guessing: ` battery minutes remaining ` is related with `cpu_temperature`"
   ]
  },
  {
   "cell_type": "code",
   "execution_count": 43,
   "metadata": {},
   "outputs": [],
   "source": [
    "data1 = battery_event.groupby(['guid']).battery_minutes_remaining.mean()\n",
    "# data1 = data1.loc[data1>0]\n",
    "\n",
    "needed = set(data1.index).intersection(set(cpu_centi_temp.guid))\n",
    "cpu_temp = cpu_centi_temp.set_index('guid').loc[needed]['mean']\n",
    "\n",
    "data1 = data1.loc[set(cpu_temp.index).intersection(data1.index)]\n",
    "cpu_temp = cpu_temp.loc[data1.index]"
   ]
  },
  {
   "cell_type": "code",
   "execution_count": 44,
   "metadata": {},
   "outputs": [],
   "source": [
    "# data1 = battery_event.groupby(['guid']).battery_minutes_remaining.mean()\n",
    "# data1 = data1.loc[data1>0]\n",
    "\n",
    "# needed = set(data1.index).intersection(set(cpu_centi_temp.guid))\n",
    "# cpu_temp = cpu_centi_temp.set_index('guid').loc[needed]['mean']\n",
    "\n",
    "# data1 = data1.loc[set(cpu_temp.index).intersection(data1.index)]\n",
    "# cpu_temp = cpu_temp.loc[data1.index]\n",
    "\n",
    "# fig, ax1 = plt.subplots(figsize=(20, 10))\n",
    "# color = 'tab:red'\n",
    "# ax1.set_xlabel('guid')\n",
    "# ax1.set_ylabel('avg battery_minutes_remaining', color=color)\n",
    "# ax1.plot(data1.index, data1, color=color) \n",
    "# ax1.tick_params(axis='y', labelcolor=color)\n",
    "\n",
    "# ax2 = ax1.twinx()\n",
    "\n",
    "# color = 'tab:blue'\n",
    "# ax2.set_ylabel('average cpu_temperature', color=color)\n",
    "# ax2.plot(data1.index, cpu_temp, color=color)\n",
    "# ax2.tick_params(axis='y', labelcolor=color)\n",
    "\n",
    "# plt.show()"
   ]
  },
  {
   "cell_type": "code",
   "execution_count": 45,
   "metadata": {},
   "outputs": [
    {
     "data": {
      "text/plain": [
       "array([[ 1.        , -0.00499523],\n",
       "       [-0.00499523,  1.        ]])"
      ]
     },
     "execution_count": 45,
     "metadata": {},
     "output_type": "execute_result"
    }
   ],
   "source": [
    "np.corrcoef(data1, cpu_temp)"
   ]
  },
  {
   "cell_type": "markdown",
   "metadata": {},
   "source": [
    "Negative Correlation: 0.5% of change in battery minutes remaining is explained by CPU core temperature in centigrade. As CPU core temperature in centigrade increases, battery minutes remaining would decrease;"
   ]
  },
  {
   "cell_type": "code",
   "execution_count": null,
   "metadata": {},
   "outputs": [],
   "source": []
  },
  {
   "cell_type": "code",
   "execution_count": null,
   "metadata": {},
   "outputs": [],
   "source": []
  },
  {
   "cell_type": "code",
   "execution_count": null,
   "metadata": {},
   "outputs": [],
   "source": []
  },
  {
   "cell_type": "markdown",
   "metadata": {},
   "source": [
    "# Prediction Model"
   ]
  },
  {
   "cell_type": "code",
   "execution_count": 46,
   "metadata": {},
   "outputs": [],
   "source": [
    "# the features are number of processes, page faults, capacity, cpu percentage, and cpu temperature \n",
    "X = pd.concat([num_proc, page_faults, capacity, cpu_percent, cpu_temp, num_devices,avg_memory,cpu_sec], axis = 1).dropna()\n",
    "y = battery_event[['guid', 'battery_minutes_remaining']][battery_event.guid.isin(X.index)].groupby('guid')['battery_minutes_remaining'].apply(lambda x: (x!=-1).mean())"
   ]
  },
  {
   "cell_type": "code",
   "execution_count": 47,
   "metadata": {},
   "outputs": [],
   "source": [
    "# Helper Method1\n",
    "# calculates the mean absolute error of the given model\n",
    "def mae(model, X_train, y_train, X_test, y_test):\n",
    "    reg = model.fit(X_train, y_train)\n",
    "    train_error = mean_absolute_error(y_train, reg.predict(X_train))\n",
    "    test_error = mean_absolute_error(y_test, reg.predict(X_test))\n",
    "    \n",
    "    return train_error, test_error\n"
   ]
  },
  {
   "cell_type": "markdown",
   "metadata": {},
   "source": [
    "### Baseline Model"
   ]
  },
  {
   "cell_type": "code",
   "execution_count": 70,
   "metadata": {},
   "outputs": [
    {
     "data": {
      "text/plain": [
       "(0.2600649882269787, 0.2714563204690589)"
      ]
     },
     "execution_count": 70,
     "metadata": {},
     "output_type": "execute_result"
    }
   ],
   "source": [
    "# for our baseline model, we will use linear regression for calculating mean absolute error \n",
    "X_train1, X_test1, y_train1, y_test1 = train_test_split(X, y, test_size=0.3)\n",
    "\n",
    "linear_train, linear_test = mae(LinearRegression(), X_train1, y_train1, X_test1, y_test1)\n",
    "linear_train,linear_test"
   ]
  },
  {
   "cell_type": "markdown",
   "metadata": {},
   "source": [
    "### Improving Model "
   ]
  },
  {
   "cell_type": "code",
   "execution_count": 79,
   "metadata": {},
   "outputs": [
    {
     "data": {
      "text/plain": [
       "(2.717534998905726e-07, 0.36214255563635267)"
      ]
     },
     "execution_count": 79,
     "metadata": {},
     "output_type": "execute_result"
    }
   ],
   "source": [
    "# This time, we will use decision tree regressor to calculate mean absolute error \n",
    "dt_train, dt_test = mae(DecisionTreeRegressor(),X_train1, y_train1, X_test1, y_test1)\n",
    "dt_train, dt_test"
   ]
  },
  {
   "cell_type": "code",
   "execution_count": 69,
   "metadata": {},
   "outputs": [
    {
     "data": {
      "text/plain": [
       "(0.25931078567083404, 0.2479785408105797)"
      ]
     },
     "execution_count": 69,
     "metadata": {},
     "output_type": "execute_result"
    }
   ],
   "source": [
    "# to improve our baseline model, we will consider SVM for calculating mean absolute error \n",
    "svm_train, svm_test = mae(svm.SVR(),X_train1, y_train1, X_test1, y_test1)\n",
    "svm_train, svm_test"
   ]
  },
  {
   "cell_type": "markdown",
   "metadata": {},
   "source": [
    "# Hypo Testing"
   ]
  },
  {
   "cell_type": "code",
   "execution_count": 60,
   "metadata": {},
   "outputs": [],
   "source": [
    "# helper methods \n",
    "# run a simulation to see how different the observed mean absolute error is from the simulation \n",
    "def simulation2(model1, model2, X, y):\n",
    "    errors1 = []\n",
    "    errors2 = []\n",
    "    \n",
    "    for _ in range(1000):\n",
    "        X_train2, X_test2, y_train2, y_test2 = train_test_split(X, y, test_size=0.3)\n",
    "\n",
    "        reg1 = model1.fit(X_train2, y_train2)\n",
    "        reg2 = model2.fit(X_train2, y_train2)\n",
    "        \n",
    "        errors1.append(mean_absolute_error(y_test2, reg1.predict(X_test2)))\n",
    "        errors2.append(mean_absolute_error(y_test2, reg2.predict(X_test2)))\n",
    "        \n",
    "        \n",
    "    return (np.array(errors1) - np.array(errors2))"
   ]
  },
  {
   "cell_type": "markdown",
   "metadata": {},
   "source": [
    "### Hypothesis Testing1\n",
    "- Null Hypo: There's no difference in performance between SVM and Decision Tree Regressor\n",
    "- Alternative Hypo: SVM performs better than Decision Tree Regressor"
   ]
  },
  {
   "cell_type": "code",
   "execution_count": 74,
   "metadata": {},
   "outputs": [
    {
     "data": {
      "text/plain": [
       "-0.11359550077968686"
      ]
     },
     "execution_count": 74,
     "metadata": {},
     "output_type": "execute_result"
    }
   ],
   "source": [
    "observed_svm_dt = svm_test - dt_test\n",
    "observed_svm_dt"
   ]
  },
  {
   "cell_type": "code",
   "execution_count": 75,
   "metadata": {},
   "outputs": [
    {
     "data": {
      "text/plain": [
       "0.183"
      ]
     },
     "execution_count": 75,
     "metadata": {},
     "output_type": "execute_result"
    }
   ],
   "source": [
    "diffa = simulation2(svm.SVR(), DecisionTreeRegressor(), X, y)\n",
    "p_dt_svm = (diffa<observed_svm_dt).mean()\n",
    "p_dt_svm"
   ]
  },
  {
   "cell_type": "code",
   "execution_count": 76,
   "metadata": {},
   "outputs": [
    {
     "name": "stdout",
     "output_type": "stream",
     "text": [
      "Absolute Observed Difference: -0.11359550077968686\n",
      "P-value: 0.183\n"
     ]
    },
    {
     "data": {
      "text/plain": [
       "<matplotlib.collections.PathCollection at 0x7fa0d552ad10>"
      ]
     },
     "execution_count": 76,
     "metadata": {},
     "output_type": "execute_result"
    },
    {
     "data": {
      "image/png": "[encoded data removed]",
      "text/plain": [
       "<Figure size 432x288 with 1 Axes>"
      ]
     },
     "metadata": {
      "needs_background": "light"
     },
     "output_type": "display_data"
    }
   ],
   "source": [
    "plt.hist(diffa)\n",
    "print('Absolute Observed Difference: {}'.format(observed_svm_dt))\n",
    "print('P-value: {}'.format(p_dt_svm))\n",
    "plt.scatter(observed_svm_dt,0, c='r')\n"
   ]
  },
  {
   "cell_type": "markdown",
   "metadata": {},
   "source": [
    "### Hypothesis Testing2\n",
    "- Null Hypo: There's no difference in performance between SVM and Linear Regression\n",
    "- Alternative Hypo: SVM performs better than Linear Regression"
   ]
  },
  {
   "cell_type": "code",
   "execution_count": 64,
   "metadata": {},
   "outputs": [
    {
     "data": {
      "text/plain": [
       "-0.0072587992735653195"
      ]
     },
     "execution_count": 64,
     "metadata": {},
     "output_type": "execute_result"
    }
   ],
   "source": [
    "observed_svm_lr = svm_test - linear_test\n",
    "observed_svm_lr"
   ]
  },
  {
   "cell_type": "code",
   "execution_count": 65,
   "metadata": {},
   "outputs": [
    {
     "data": {
      "text/plain": [
       "0.729"
      ]
     },
     "execution_count": 65,
     "metadata": {},
     "output_type": "execute_result"
    }
   ],
   "source": [
    "diff = simulation2(svm.SVR(), LinearRegression(), X, y)\n",
    "p_dt_lr = 1-(diff>observed_svm_lr).mean()\n",
    "p_dt_lr"
   ]
  },
  {
   "cell_type": "code",
   "execution_count": 66,
   "metadata": {},
   "outputs": [
    {
     "name": "stdout",
     "output_type": "stream",
     "text": [
      "Absolute Observed Difference: -0.0072587992735653195\n",
      "P-value: 0.729\n"
     ]
    },
    {
     "data": {
      "text/plain": [
       "<matplotlib.collections.PathCollection at 0x7fa0d56ca590>"
      ]
     },
     "execution_count": 66,
     "metadata": {},
     "output_type": "execute_result"
    },
    {
     "data": {
      "image/png": "[encoded data removed]",
      "text/plain": [
       "<Figure size 432x288 with 1 Axes>"
      ]
     },
     "metadata": {
      "needs_background": "light"
     },
     "output_type": "display_data"
    }
   ],
   "source": [
    "plt.hist(diff)\n",
    "print('Absolute Observed Difference: {}'.format(observed_svm_lr))\n",
    "print('P-value: {}'.format(p_dt_lr))\n",
    "plt.scatter(observed_svm_lr, 0, c='r')"
   ]
  },
  {
   "cell_type": "markdown",
   "metadata": {},
   "source": [
    "## <font color='red'>  Need to think about whether containing overfitting or not </font>"
   ]
  },
  {
   "cell_type": "markdown",
   "metadata": {},
   "source": [
    "# Overfitting "
   ]
  },
  {
   "cell_type": "code",
   "execution_count": 245,
   "metadata": {},
   "outputs": [
    {
     "name": "stdout",
     "output_type": "stream",
     "text": [
      "1.0329127312690494e-06 0.2554975640945912\n",
      "9.086769172913107e-06 0.2626973681404361\n",
      "4.945257238677628e-07 0.24011948478298412\n",
      "7.30407254694071e-06 0.25866816429588557\n"
     ]
    }
   ],
   "source": [
    "# though we got a p-value of 0 for decision tree regressor, from the large difference in mean absolute errors \n",
    "# between train data and test data, 1.5274384551368124e-06 and 0.3092834478762173 respectively, we can clearly \n",
    "# see that this model suffers from overfitting \n",
    "\n",
    "# let's see if removing features would reduce the difference between the two mean absolute errors \n",
    "# first, let's remove number of processes \n",
    "X = pd.concat([page_faults, capacity, cpu_percent, cpu_temp], axis = 1).dropna()\n",
    "\n",
    "dt_train, dt_test = mae(DecisionTreeRegressor(random_state=0))\n",
    "print(dt_train, dt_test)\n",
    "\n",
    "# next, let's remove page faults\n",
    "X = pd.concat([num_proc, capacity, cpu_percent, cpu_temp], axis = 1).dropna()\n",
    "\n",
    "dt_train, dt_test = mae(DecisionTreeRegressor(random_state=0))\n",
    "print(dt_train, dt_test)\n",
    "\n",
    "# let's remove capacity\n",
    "X = pd.concat([num_proc, page_faults, cpu_percent, cpu_temp], axis = 1).dropna()\n",
    "\n",
    "dt_train, dt_test = mae(DecisionTreeRegressor(random_state=0))\n",
    "print(dt_train, dt_test)\n",
    "\n",
    "# let's remove cpu percentage\n",
    "X = pd.concat([num_proc, page_faults, capacity, cpu_temp], axis = 1).dropna()\n",
    "\n",
    "dt_train, dt_test = mae(DecisionTreeRegressor(random_state=0))\n",
    "print(dt_train, dt_test)\n",
    "\n",
    "# unfortunately, we can see that removing features does not really reduce the issue of overfitting since \n",
    "# the difference between the 2 mean absolute errors is still pretty large \n",
    "# in future works, we will need to think about how to tackle this issue of overfitting "
   ]
  }
 ],
 "metadata": {
  "kernelspec": {
   "display_name": "Python 3",
   "language": "python",
   "name": "python3"
  },
  "language_info": {
   "codemirror_mode": {
    "name": "ipython",
    "version": 3
   },
   "file_extension": ".py",
   "mimetype": "text/x-python",
   "name": "python",
   "nbconvert_exporter": "python",
   "pygments_lexer": "ipython3",
   "version": "3.7.6"
  }
 },
 "nbformat": 4,
 "nbformat_minor": 4
}
